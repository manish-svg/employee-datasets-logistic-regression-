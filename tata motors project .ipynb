{
 "cells": [
  {
   "cell_type": "code",
   "execution_count": 87,
   "id": "b1689e82",
   "metadata": {},
   "outputs": [],
   "source": [
    "import numpy as np\n",
    "import pandas as pd\n",
    "from sklearn.linear_model import LinearRegression\n",
    "from sklearn.neighbors import KNeighborsRegressor\n",
    "from sklearn.model_selection import cross_val_score\n",
    "from sklearn.model_selection import KFold\n",
    "from sklearn.preprocessing import PolynomialFeatures"
   ]
  },
  {
   "cell_type": "code",
   "execution_count": 88,
   "id": "1b8aaec1",
   "metadata": {},
   "outputs": [],
   "source": [
    "datap = pd.read_csv(\"E:/tata motors project.csv\")"
   ]
  },
  {
   "cell_type": "code",
   "execution_count": 89,
   "id": "bce66a85",
   "metadata": {},
   "outputs": [],
   "source": [
    "data = np.loadtxt(\"E:/tata motors project.csv\",delimiter = ',',dtype = str)"
   ]
  },
  {
   "cell_type": "code",
   "execution_count": 90,
   "id": "eb9b48ff",
   "metadata": {},
   "outputs": [],
   "source": [
    "y = data[1:,1].reshape(-1,1).astype(float)"
   ]
  },
  {
   "cell_type": "code",
   "execution_count": 91,
   "id": "7919e679",
   "metadata": {},
   "outputs": [],
   "source": [
    "x = data[1:,[0,2,3,4,5,6]].astype(float)"
   ]
  },
  {
   "cell_type": "code",
   "execution_count": 92,
   "id": "14fdf7e9",
   "metadata": {},
   "outputs": [],
   "source": [
    "from sklearn.model_selection import train_test_split"
   ]
  },
  {
   "cell_type": "code",
   "execution_count": 93,
   "id": "678e0118",
   "metadata": {},
   "outputs": [],
   "source": [
    "x_train,x_test,y_train,y_test = train_test_split(x,y,random_state = 1,test_size = 0.3)"
   ]
  },
  {
   "cell_type": "code",
   "execution_count": 94,
   "id": "3681c9d5",
   "metadata": {},
   "outputs": [
    {
     "data": {
      "text/plain": [
       "((172, 6), (75, 6))"
      ]
     },
     "execution_count": 94,
     "metadata": {},
     "output_type": "execute_result"
    }
   ],
   "source": [
    "x_train.shape,x_test.shape"
   ]
  },
  {
   "cell_type": "code",
   "execution_count": 95,
   "id": "2bdb8f97",
   "metadata": {},
   "outputs": [],
   "source": [
    "# for time series data\n",
    "tr_l = int(len(x)*0.70)\n",
    "x_train1 = x[0:tr_l]\n",
    "x_test1  = x[tr_l:]"
   ]
  },
  {
   "cell_type": "code",
   "execution_count": 96,
   "id": "e7242b67",
   "metadata": {},
   "outputs": [],
   "source": [
    "ylen = int(len(y)*0.70)\n",
    "y_train1 = y[0:ylen]\n",
    "y_test1 = y[ylen:]"
   ]
  },
  {
   "cell_type": "code",
   "execution_count": 97,
   "id": "0440f5b0",
   "metadata": {},
   "outputs": [],
   "source": [
    "model = LinearRegression()"
   ]
  },
  {
   "cell_type": "code",
   "execution_count": 98,
   "id": "ff515c81",
   "metadata": {},
   "outputs": [
    {
     "data": {
      "text/plain": [
       "LinearRegression()"
      ]
     },
     "execution_count": 98,
     "metadata": {},
     "output_type": "execute_result"
    }
   ],
   "source": [
    "model.fit(x_train1,y_train1)"
   ]
  },
  {
   "cell_type": "code",
   "execution_count": 99,
   "id": "d7283257",
   "metadata": {},
   "outputs": [
    {
     "name": "stdout",
     "output_type": "stream",
     "text": [
      "0.9617908508851853 0.9539632109813088\n"
     ]
    }
   ],
   "source": [
    "print(model.score(x_train1,y_train1),model.score(x_test1,y_test1))"
   ]
  },
  {
   "cell_type": "code",
   "execution_count": 100,
   "id": "7c37fdcf",
   "metadata": {},
   "outputs": [
    {
     "data": {
      "text/plain": [
       "array([[ 1.07913847e+00,  1.63391177e-01, -1.71164375e-01,\n",
       "        -1.90140778e-01,  9.83756185e-02, -5.56972791e-09]])"
      ]
     },
     "execution_count": 100,
     "metadata": {},
     "output_type": "execute_result"
    }
   ],
   "source": [
    "model.coef_"
   ]
  },
  {
   "cell_type": "code",
   "execution_count": 108,
   "id": "44cf41df",
   "metadata": {},
   "outputs": [
    {
     "data": {
      "text/plain": [
       "array([[423.53582218]])"
      ]
     },
     "execution_count": 108,
     "metadata": {},
     "output_type": "execute_result"
    }
   ],
   "source": [
    "model.predict([[x,463.75,463.75,455.80,458.7,14484364]])"
   ]
  },
  {
   "cell_type": "code",
   "execution_count": null,
   "id": "f82e861c",
   "metadata": {},
   "outputs": [],
   "source": []
  },
  {
   "cell_type": "code",
   "execution_count": null,
   "id": "6d4ec99b",
   "metadata": {},
   "outputs": [],
   "source": []
  },
  {
   "cell_type": "code",
   "execution_count": null,
   "id": "59496b00",
   "metadata": {},
   "outputs": [],
   "source": []
  }
 ],
 "metadata": {
  "kernelspec": {
   "display_name": "Python 3 (ipykernel)",
   "language": "python",
   "name": "python3"
  },
  "language_info": {
   "codemirror_mode": {
    "name": "ipython",
    "version": 3
   },
   "file_extension": ".py",
   "mimetype": "text/x-python",
   "name": "python",
   "nbconvert_exporter": "python",
   "pygments_lexer": "ipython3",
   "version": "3.9.12"
  }
 },
 "nbformat": 4,
 "nbformat_minor": 5
}
