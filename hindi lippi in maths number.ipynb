{
 "cells": [
  {
   "cell_type": "code",
   "execution_count": 148,
   "id": "948e6dcd",
   "metadata": {},
   "outputs": [],
   "source": [
    "import os\n",
    "from matplotlib.image import imread\n",
    "import numpy as np\n",
    "import pandas as pd"
   ]
  },
  {
   "cell_type": "code",
   "execution_count": 149,
   "id": "d8d866c1",
   "metadata": {},
   "outputs": [],
   "source": [
    "def image_to_pandas(path,target):\n",
    "    entries = os.listdir(path)\n",
    "    main = []\n",
    "    for i in entries:\n",
    "        img_arr = imread(path+i)\n",
    "        main.append(img_arr.reshape(1024,).tolist())\n",
    "    main = np.array(main)\n",
    "    columns = []\n",
    "    for i in range(1,(main.shape[1]+1)):\n",
    "        columns.append('pixel_'+str(i))\n",
    "    data = pd.DataFrame(main,columns = columns)\n",
    "    data['Target'] = target\n",
    "    return data"
   ]
  },
  {
   "cell_type": "code",
   "execution_count": 150,
   "id": "6bef9449",
   "metadata": {},
   "outputs": [],
   "source": [
    "main_0 = image_to_pandas(\"E://DevanagariHandwrittenDigitDataset//Train//digit_0//\",0)\n",
    "main_2 = image_to_pandas(\"E://DevanagariHandwrittenDigitDataset//Train//digit_2//\",2)\n",
    "main_3 = image_to_pandas(\"E://DevanagariHandwrittenDigitDataset//Train//digit_3//\",3)\n",
    "main_4 = image_to_pandas(\"E://DevanagariHandwrittenDigitDataset//Train//digit_4//\",4)\n",
    "main_5 = image_to_pandas(\"E://DevanagariHandwrittenDigitDataset//Train//digit_5//\",5)\n",
    "main_6 = image_to_pandas(\"E://DevanagariHandwrittenDigitDataset//Train//digit_6//\",6)\n",
    "main_7 = image_to_pandas(\"E://DevanagariHandwrittenDigitDataset//Train//digit_7//\",7)\n",
    "main_8 = image_to_pandas(\"E://DevanagariHandwrittenDigitDataset//Train//digit_8//\",8)\n",
    "main_9 = image_to_pandas(\"E://DevanagariHandwrittenDigitDataset//Train//digit_9//\",9)\n",
    "main_1 = image_to_pandas(\"E://DevanagariHandwrittenDigitDataset//Train//digit_1//\",1)\n"
   ]
  },
  {
   "cell_type": "code",
   "execution_count": 151,
   "id": "0b68ecb8",
   "metadata": {},
   "outputs": [],
   "source": [
    "main_data = pd.concat([main_0,main_1,main_2,main_3,main_4,main_5,main_6,main_7,main_8,main_9],axis = 0)"
   ]
  },
  {
   "cell_type": "code",
   "execution_count": 152,
   "id": "4512d0bb",
   "metadata": {},
   "outputs": [],
   "source": [
    "main_data.reset_index(inplace = True)"
   ]
  },
  {
   "cell_type": "code",
   "execution_count": 153,
   "id": "a7df37b3",
   "metadata": {},
   "outputs": [],
   "source": [
    "main_data.drop('index',inplace = True,axis = 1)"
   ]
  },
  {
   "cell_type": "code",
   "execution_count": 154,
   "id": "a3c1043f",
   "metadata": {},
   "outputs": [],
   "source": [
    "main_data = main_data.sample(17000)"
   ]
  },
  {
   "cell_type": "code",
   "execution_count": 155,
   "id": "b4e87486",
   "metadata": {},
   "outputs": [],
   "source": [
    "from sklearn.ensemble import RandomForestClassifier\n",
    "from sklearn.model_selection import train_test_split"
   ]
  },
  {
   "cell_type": "code",
   "execution_count": 156,
   "id": "4742a59b",
   "metadata": {},
   "outputs": [],
   "source": [
    "x = main_data.loc[:,main_data.columns != 'Target']\n",
    "y = main_data['Target']"
   ]
  },
  {
   "cell_type": "code",
   "execution_count": 174,
   "id": "0de3dd6c",
   "metadata": {},
   "outputs": [],
   "source": [
    "m = RandomForestClassifier(n_estimators = 300)"
   ]
  },
  {
   "cell_type": "code",
   "execution_count": 175,
   "id": "93adc11a",
   "metadata": {},
   "outputs": [],
   "source": [
    "x_train,x_test,y_train,y_test = train_test_split(x,y,random_state = 42)"
   ]
  },
  {
   "cell_type": "code",
   "execution_count": 176,
   "id": "1cc9e35a",
   "metadata": {},
   "outputs": [
    {
     "data": {
      "text/plain": [
       "RandomForestClassifier(n_estimators=300)"
      ]
     },
     "execution_count": 176,
     "metadata": {},
     "output_type": "execute_result"
    }
   ],
   "source": [
    "m.fit(x_train,y_train)"
   ]
  },
  {
   "cell_type": "code",
   "execution_count": 177,
   "id": "003b791a",
   "metadata": {},
   "outputs": [],
   "source": [
    "from sklearn.metrics import confusion_matrix,precision_score,recall_score"
   ]
  },
  {
   "cell_type": "code",
   "execution_count": 178,
   "id": "e7944250",
   "metadata": {},
   "outputs": [],
   "source": [
    "tr_pred = m.predict(x_train)"
   ]
  },
  {
   "cell_type": "code",
   "execution_count": 179,
   "id": "e5f6b20c",
   "metadata": {},
   "outputs": [
    {
     "data": {
      "text/plain": [
       "array([[1265,    0,    0,    0,    0,    0,    0,    0,    0,    0],\n",
       "       [   0, 1274,    0,    0,    0,    0,    0,    0,    0,    0],\n",
       "       [   0,    0, 1281,    0,    0,    0,    0,    0,    0,    0],\n",
       "       [   0,    0,    0, 1283,    0,    0,    0,    0,    0,    0],\n",
       "       [   0,    0,    0,    0, 1291,    0,    0,    0,    0,    0],\n",
       "       [   0,    0,    0,    0,    0, 1252,    0,    0,    0,    0],\n",
       "       [   0,    0,    0,    0,    0,    0, 1270,    0,    0,    0],\n",
       "       [   0,    0,    0,    0,    0,    0,    0, 1294,    0,    0],\n",
       "       [   0,    0,    0,    0,    0,    0,    0,    0, 1260,    0],\n",
       "       [   0,    0,    0,    0,    0,    0,    0,    0,    0, 1280]],\n",
       "      dtype=int64)"
      ]
     },
     "execution_count": 179,
     "metadata": {},
     "output_type": "execute_result"
    }
   ],
   "source": [
    "confusion_matrix(y_train,tr_pred)"
   ]
  },
  {
   "cell_type": "code",
   "execution_count": 180,
   "id": "b924c6ef",
   "metadata": {},
   "outputs": [
    {
     "data": {
      "text/plain": [
       "0.9767058823529412"
      ]
     },
     "execution_count": 180,
     "metadata": {},
     "output_type": "execute_result"
    }
   ],
   "source": [
    "m.score(x_test,y_test)"
   ]
  },
  {
   "cell_type": "code",
   "execution_count": 181,
   "id": "e3d74c85",
   "metadata": {},
   "outputs": [],
   "source": [
    "te_pred = m.predict(x_test)"
   ]
  },
  {
   "cell_type": "code",
   "execution_count": 182,
   "id": "4396066d",
   "metadata": {},
   "outputs": [
    {
     "data": {
      "text/plain": [
       "array([[435,   0,   0,   0,   0,   0,   0,   0,   0,   0],\n",
       "       [  0, 420,   0,   1,   3,   0,   0,   0,   1,   1],\n",
       "       [  1,   1, 399,  13,   0,   3,   2,   0,   0,   0],\n",
       "       [  0,   3,  12, 393,   0,   5,   1,   1,   0,   2],\n",
       "       [  0,   2,   0,   0, 404,   1,   0,   1,   0,   1],\n",
       "       [  0,   0,   5,   4,   3, 433,   1,   2,   0,   0],\n",
       "       [  0,   1,   1,   0,   0,   4, 412,   3,   5,   4],\n",
       "       [  1,   0,   0,   0,   1,   1,   2, 401,   0,   0],\n",
       "       [  0,   0,   1,   0,   1,   0,   0,   0, 438,   0],\n",
       "       [  1,   0,   1,   0,   0,   0,   1,   1,   0, 416]], dtype=int64)"
      ]
     },
     "execution_count": 182,
     "metadata": {},
     "output_type": "execute_result"
    }
   ],
   "source": [
    "confusion_matrix(y_test,te_pred)"
   ]
  },
  {
   "cell_type": "code",
   "execution_count": 184,
   "id": "104bac28",
   "metadata": {},
   "outputs": [
    {
     "data": {
      "text/plain": [
       "(0.9767058823529412, 0.9767058823529412)"
      ]
     },
     "execution_count": 184,
     "metadata": {},
     "output_type": "execute_result"
    }
   ],
   "source": [
    "precision_score(y_test,te_pred,average = 'micro'),recall_score(y_test,te_pred,average = 'micro')"
   ]
  },
  {
   "cell_type": "code",
   "execution_count": null,
   "id": "110712c1",
   "metadata": {},
   "outputs": [],
   "source": []
  },
  {
   "cell_type": "code",
   "execution_count": null,
   "id": "3fddf569",
   "metadata": {},
   "outputs": [],
   "source": []
  }
 ],
 "metadata": {
  "kernelspec": {
   "display_name": "Python 3 (ipykernel)",
   "language": "python",
   "name": "python3"
  },
  "language_info": {
   "codemirror_mode": {
    "name": "ipython",
    "version": 3
   },
   "file_extension": ".py",
   "mimetype": "text/x-python",
   "name": "python",
   "nbconvert_exporter": "python",
   "pygments_lexer": "ipython3",
   "version": "3.9.12"
  }
 },
 "nbformat": 4,
 "nbformat_minor": 5
}
