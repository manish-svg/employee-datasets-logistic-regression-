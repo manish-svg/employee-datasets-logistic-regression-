{
 "cells": [
  {
   "cell_type": "code",
   "execution_count": 1,
   "id": "f540418a",
   "metadata": {},
   "outputs": [],
   "source": [
    "import numpy as np\n",
    "from sklearn import datasets\n",
    "from sklearn.model_selection import train_test_split\n",
    "from sklearn.neighbors import KNeighborsClassifier\n",
    "from sklearn.model_selection import cross_val_score\n",
    "from sklearn.model_selection import KFold"
   ]
  },
  {
   "cell_type": "code",
   "execution_count": 2,
   "id": "2585188d",
   "metadata": {},
   "outputs": [],
   "source": [
    "datasets = datasets.load_iris()"
   ]
  },
  {
   "cell_type": "code",
   "execution_count": 3,
   "id": "ea989a3b",
   "metadata": {},
   "outputs": [],
   "source": [
    "x = datasets.data\n",
    "y = datasets.target"
   ]
  },
  {
   "cell_type": "code",
   "execution_count": 4,
   "id": "33951c00",
   "metadata": {},
   "outputs": [],
   "source": [
    "x_train,x_test,y_train,y_test = train_test_split(x,y,random_state = 42)"
   ]
  },
  {
   "cell_type": "code",
   "execution_count": 5,
   "id": "bda57423",
   "metadata": {},
   "outputs": [
    {
     "data": {
      "text/plain": [
       "[[0.963963963963964, 13],\n",
       " [0.963963963963964, 11],\n",
       " [0.9551920341394027, 17],\n",
       " [0.9551920341394026, 9],\n",
       " [0.954954954954955, 5],\n",
       " [0.9464201043148411, 21],\n",
       " [0.9464201043148411, 7],\n",
       " [0.9461830251303937, 23],\n",
       " [0.9461830251303937, 15],\n",
       " [0.9461830251303937, 3],\n",
       " [0.9374110953058321, 19],\n",
       " [0.9371740161213845, 1]]"
      ]
     },
     "execution_count": 5,
     "metadata": {},
     "output_type": "execute_result"
    }
   ],
   "source": [
    "score_i = []\n",
    "for i in range(1,25,2):\n",
    "    clf = KNeighborsClassifier(n_neighbors = i)\n",
    "    score = cross_val_score(clf,x_train,y_train,cv = KFold(n_splits = 3,shuffle = True,random_state = 42))\n",
    "    score_i.append([score.mean(),i])\n",
    "score_i.sort(reverse = True)\n",
    "score_i"
   ]
  },
  {
   "cell_type": "code",
   "execution_count": 8,
   "id": "46a6298a",
   "metadata": {},
   "outputs": [
    {
     "data": {
      "text/plain": [
       "1.0"
      ]
     },
     "execution_count": 8,
     "metadata": {},
     "output_type": "execute_result"
    }
   ],
   "source": [
    "clf = KNeighborsClassifier(n_neighbors = 13)\n",
    "clf.fit(x_train,y_train)\n",
    "clf.score(x_test,y_test)"
   ]
  },
  {
   "cell_type": "code",
   "execution_count": 9,
   "id": "24208d6e",
   "metadata": {},
   "outputs": [
    {
     "data": {
      "text/plain": [
       "[[3, 1], [5, 1]]"
      ]
     },
     "execution_count": 9,
     "metadata": {},
     "output_type": "execute_result"
    }
   ],
   "source": [
    "a = [[5,1],[3,1]]\n",
    "sorted(a)"
   ]
  },
  {
   "cell_type": "code",
   "execution_count": null,
   "id": "baa9e5c0",
   "metadata": {},
   "outputs": [],
   "source": []
  }
 ],
 "metadata": {
  "kernelspec": {
   "display_name": "Python 3 (ipykernel)",
   "language": "python",
   "name": "python3"
  },
  "language_info": {
   "codemirror_mode": {
    "name": "ipython",
    "version": 3
   },
   "file_extension": ".py",
   "mimetype": "text/x-python",
   "name": "python",
   "nbconvert_exporter": "python",
   "pygments_lexer": "ipython3",
   "version": "3.9.12"
  }
 },
 "nbformat": 4,
 "nbformat_minor": 5
}
