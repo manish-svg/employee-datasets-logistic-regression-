{
 "cells": [
  {
   "cell_type": "code",
   "execution_count": 39,
   "id": "a8b03e29",
   "metadata": {},
   "outputs": [],
   "source": [
    "\n",
    "class my:\n",
    "    def __init__(broker):\n",
    "        from datetime import datetime\n",
    "        broker.dt = datetime.now()\n",
    "        broker.num = broker.dt.weekday()\n",
    "        broker.day = broker.dt.strftime('%A')\n",
    "        #print('today is {} and your predicted time is {} min'.format(broker.day,broker.regression(broker.num)))\n",
    "        \n",
    "    def regression(broker):\n",
    "        import pandas as pd\n",
    "        from sklearn.metrics import r2_score\n",
    "        import numpy as np\n",
    "        from sklearn.model_selection import train_test_split\n",
    "        from sklearn.linear_model import LinearRegression\n",
    "        from sklearn.compose import ColumnTransformer\n",
    "        from sklearn.preprocessing import OrdinalEncoder\n",
    "        data = pd.read_csv('E:\\insta.csv')\n",
    "        x = data.iloc[:,0].values\n",
    "        y = data.iloc[:,1].values\n",
    "        x_train,x_test,y_train,y_test = train_test_split(x,y,random_state = 1)\n",
    "        x_train = x_train.reshape(-1,1)\n",
    "        x_test = x_test.reshape(-1,1)\n",
    "        oe = OrdinalEncoder(categories = [['monday','tuesday','wednesday','thursday','friday','saturday',\n",
    "                                  'sunday']])\n",
    "        oe.fit(x_train)\n",
    "        x_train1 = oe.transform(x_train)\n",
    "        oe.fit(x_test)\n",
    "        x_test1 = oe.transform(x_test)\n",
    "        model = LinearRegression()\n",
    "        model.fit(x_train1,y_train)\n",
    "        day = broker.num\n",
    "        a = int(model.predict([[day]]))\n",
    "        day1 = broker.day\n",
    "        return 'Today is {} and prediction is {} min'.format(day1,a)\n",
    "    def whatsapp(broker,a):\n",
    "        import pywhatkit\n",
    "        from datetime import datetime\n",
    "        broker.a = a\n",
    "        broker.b = int(datetime.now().strftime('%H'))\n",
    "        broker.c = int(datetime.now().strftime('%M')) + 1\n",
    "        return pywhatkit.sendwhatmsg(broker.a,'{}'.format(broker.regression()),broker.b,broker.c)\n",
    "    \n",
    "    \n",
    "    "
   ]
  },
  {
   "cell_type": "code",
   "execution_count": 43,
   "id": "4e048c97",
   "metadata": {},
   "outputs": [
    {
     "name": "stdout",
     "output_type": "stream",
     "text": [
      "In 25 Seconds WhatsApp will open and after 15 Seconds Message will be Delivered!\n"
     ]
    }
   ],
   "source": [
    "a = my()\n",
    "# enter your number \n",
    "a.whatsapp('+918292072929')"
   ]
  },
  {
   "cell_type": "code",
   "execution_count": null,
   "id": "5306dbe4",
   "metadata": {},
   "outputs": [],
   "source": []
  }
 ],
 "metadata": {
  "kernelspec": {
   "display_name": "Python 3 (ipykernel)",
   "language": "python",
   "name": "python3"
  },
  "language_info": {
   "codemirror_mode": {
    "name": "ipython",
    "version": 3
   },
   "file_extension": ".py",
   "mimetype": "text/x-python",
   "name": "python",
   "nbconvert_exporter": "python",
   "pygments_lexer": "ipython3",
   "version": "3.9.12"
  }
 },
 "nbformat": 4,
 "nbformat_minor": 5
}
