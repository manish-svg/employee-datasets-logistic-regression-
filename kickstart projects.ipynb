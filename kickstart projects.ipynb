{
 "cells": [
  {
   "cell_type": "code",
   "execution_count": 2,
   "id": "1d239846",
   "metadata": {},
   "outputs": [],
   "source": [
    "import pandas as pd\n",
    "import numpy as np\n",
    "import seaborn as sns\n",
    "import matplotlib.pyplot as plt"
   ]
  },
  {
   "cell_type": "code",
   "execution_count": 3,
   "id": "365d51ce",
   "metadata": {},
   "outputs": [],
   "source": [
    "data = pd.read_csv('E:/kickstarter_projects.csv')"
   ]
  },
  {
   "cell_type": "code",
   "execution_count": 4,
   "id": "303cf3eb",
   "metadata": {},
   "outputs": [
    {
     "data": {
      "text/html": [
       "<div>\n",
       "<style scoped>\n",
       "    .dataframe tbody tr th:only-of-type {\n",
       "        vertical-align: middle;\n",
       "    }\n",
       "\n",
       "    .dataframe tbody tr th {\n",
       "        vertical-align: top;\n",
       "    }\n",
       "\n",
       "    .dataframe thead th {\n",
       "        text-align: right;\n",
       "    }\n",
       "</style>\n",
       "<table border=\"1\" class=\"dataframe\">\n",
       "  <thead>\n",
       "    <tr style=\"text-align: right;\">\n",
       "      <th></th>\n",
       "      <th>ID</th>\n",
       "      <th>Name</th>\n",
       "      <th>Category</th>\n",
       "      <th>Subcategory</th>\n",
       "      <th>Country</th>\n",
       "      <th>Launched</th>\n",
       "      <th>Deadline</th>\n",
       "      <th>Goal</th>\n",
       "      <th>Pledged</th>\n",
       "      <th>Backers</th>\n",
       "      <th>State</th>\n",
       "    </tr>\n",
       "  </thead>\n",
       "  <tbody>\n",
       "    <tr>\n",
       "      <th>0</th>\n",
       "      <td>1860890148</td>\n",
       "      <td>Grace Jones Does Not Give A F$#% T-Shirt (limi...</td>\n",
       "      <td>Fashion</td>\n",
       "      <td>Fashion</td>\n",
       "      <td>United States</td>\n",
       "      <td>2009-04-21 21:02:48</td>\n",
       "      <td>2009-05-31</td>\n",
       "      <td>1000</td>\n",
       "      <td>625</td>\n",
       "      <td>30</td>\n",
       "      <td>Failed</td>\n",
       "    </tr>\n",
       "    <tr>\n",
       "      <th>1</th>\n",
       "      <td>709707365</td>\n",
       "      <td>CRYSTAL ANTLERS UNTITLED MOVIE</td>\n",
       "      <td>Film &amp; Video</td>\n",
       "      <td>Shorts</td>\n",
       "      <td>United States</td>\n",
       "      <td>2009-04-23 00:07:53</td>\n",
       "      <td>2009-07-20</td>\n",
       "      <td>80000</td>\n",
       "      <td>22</td>\n",
       "      <td>3</td>\n",
       "      <td>Failed</td>\n",
       "    </tr>\n",
       "    <tr>\n",
       "      <th>2</th>\n",
       "      <td>1703704063</td>\n",
       "      <td>drawing for dollars</td>\n",
       "      <td>Art</td>\n",
       "      <td>Illustration</td>\n",
       "      <td>United States</td>\n",
       "      <td>2009-04-24 21:52:03</td>\n",
       "      <td>2009-05-03</td>\n",
       "      <td>20</td>\n",
       "      <td>35</td>\n",
       "      <td>3</td>\n",
       "      <td>Successful</td>\n",
       "    </tr>\n",
       "    <tr>\n",
       "      <th>3</th>\n",
       "      <td>727286</td>\n",
       "      <td>Offline Wikipedia iPhone app</td>\n",
       "      <td>Technology</td>\n",
       "      <td>Software</td>\n",
       "      <td>United States</td>\n",
       "      <td>2009-04-25 17:36:21</td>\n",
       "      <td>2009-07-14</td>\n",
       "      <td>99</td>\n",
       "      <td>145</td>\n",
       "      <td>25</td>\n",
       "      <td>Successful</td>\n",
       "    </tr>\n",
       "    <tr>\n",
       "      <th>4</th>\n",
       "      <td>1622952265</td>\n",
       "      <td>Pantshirts</td>\n",
       "      <td>Fashion</td>\n",
       "      <td>Fashion</td>\n",
       "      <td>United States</td>\n",
       "      <td>2009-04-27 14:10:39</td>\n",
       "      <td>2009-05-26</td>\n",
       "      <td>1900</td>\n",
       "      <td>387</td>\n",
       "      <td>10</td>\n",
       "      <td>Failed</td>\n",
       "    </tr>\n",
       "    <tr>\n",
       "      <th>...</th>\n",
       "      <td>...</td>\n",
       "      <td>...</td>\n",
       "      <td>...</td>\n",
       "      <td>...</td>\n",
       "      <td>...</td>\n",
       "      <td>...</td>\n",
       "      <td>...</td>\n",
       "      <td>...</td>\n",
       "      <td>...</td>\n",
       "      <td>...</td>\n",
       "      <td>...</td>\n",
       "    </tr>\n",
       "    <tr>\n",
       "      <th>374848</th>\n",
       "      <td>1486845240</td>\n",
       "      <td>Americas Got Talent - Serious MAK</td>\n",
       "      <td>Music</td>\n",
       "      <td>Hip-Hop</td>\n",
       "      <td>United States</td>\n",
       "      <td>2018-01-02 14:13:09</td>\n",
       "      <td>2018-01-16</td>\n",
       "      <td>500</td>\n",
       "      <td>0</td>\n",
       "      <td>0</td>\n",
       "      <td>Live</td>\n",
       "    </tr>\n",
       "    <tr>\n",
       "      <th>374849</th>\n",
       "      <td>974738310</td>\n",
       "      <td>EVO Planner: The World's First Personalized Fl...</td>\n",
       "      <td>Design</td>\n",
       "      <td>Product Design</td>\n",
       "      <td>United States</td>\n",
       "      <td>2018-01-02 14:15:38</td>\n",
       "      <td>2018-02-09</td>\n",
       "      <td>15000</td>\n",
       "      <td>269</td>\n",
       "      <td>8</td>\n",
       "      <td>Live</td>\n",
       "    </tr>\n",
       "    <tr>\n",
       "      <th>374850</th>\n",
       "      <td>2106246194</td>\n",
       "      <td>Help save La Gattara, Arizona's first Cat Cafe!</td>\n",
       "      <td>Food</td>\n",
       "      <td>Food</td>\n",
       "      <td>United States</td>\n",
       "      <td>2018-01-02 14:17:46</td>\n",
       "      <td>2018-01-16</td>\n",
       "      <td>10000</td>\n",
       "      <td>165</td>\n",
       "      <td>3</td>\n",
       "      <td>Live</td>\n",
       "    </tr>\n",
       "    <tr>\n",
       "      <th>374851</th>\n",
       "      <td>1830173355</td>\n",
       "      <td>Digital Dagger Coin</td>\n",
       "      <td>Art</td>\n",
       "      <td>Art</td>\n",
       "      <td>United States</td>\n",
       "      <td>2018-01-02 14:38:17</td>\n",
       "      <td>2018-02-01</td>\n",
       "      <td>650</td>\n",
       "      <td>7</td>\n",
       "      <td>1</td>\n",
       "      <td>Live</td>\n",
       "    </tr>\n",
       "    <tr>\n",
       "      <th>374852</th>\n",
       "      <td>1339173863</td>\n",
       "      <td>Spirits of the Forest</td>\n",
       "      <td>Games</td>\n",
       "      <td>Tabletop Games</td>\n",
       "      <td>Spain</td>\n",
       "      <td>2018-01-02 15:02:31</td>\n",
       "      <td>2018-01-26</td>\n",
       "      <td>24274</td>\n",
       "      <td>4483</td>\n",
       "      <td>82</td>\n",
       "      <td>Live</td>\n",
       "    </tr>\n",
       "  </tbody>\n",
       "</table>\n",
       "<p>374853 rows × 11 columns</p>\n",
       "</div>"
      ],
      "text/plain": [
       "                ID                                               Name  \\\n",
       "0       1860890148  Grace Jones Does Not Give A F$#% T-Shirt (limi...   \n",
       "1        709707365                     CRYSTAL ANTLERS UNTITLED MOVIE   \n",
       "2       1703704063                                drawing for dollars   \n",
       "3           727286                       Offline Wikipedia iPhone app   \n",
       "4       1622952265                                         Pantshirts   \n",
       "...            ...                                                ...   \n",
       "374848  1486845240                  Americas Got Talent - Serious MAK   \n",
       "374849   974738310  EVO Planner: The World's First Personalized Fl...   \n",
       "374850  2106246194    Help save La Gattara, Arizona's first Cat Cafe!   \n",
       "374851  1830173355                                Digital Dagger Coin   \n",
       "374852  1339173863                              Spirits of the Forest   \n",
       "\n",
       "            Category     Subcategory        Country             Launched  \\\n",
       "0            Fashion         Fashion  United States  2009-04-21 21:02:48   \n",
       "1       Film & Video          Shorts  United States  2009-04-23 00:07:53   \n",
       "2                Art    Illustration  United States  2009-04-24 21:52:03   \n",
       "3         Technology        Software  United States  2009-04-25 17:36:21   \n",
       "4            Fashion         Fashion  United States  2009-04-27 14:10:39   \n",
       "...              ...             ...            ...                  ...   \n",
       "374848         Music         Hip-Hop  United States  2018-01-02 14:13:09   \n",
       "374849        Design  Product Design  United States  2018-01-02 14:15:38   \n",
       "374850          Food            Food  United States  2018-01-02 14:17:46   \n",
       "374851           Art             Art  United States  2018-01-02 14:38:17   \n",
       "374852         Games  Tabletop Games          Spain  2018-01-02 15:02:31   \n",
       "\n",
       "          Deadline   Goal  Pledged  Backers       State  \n",
       "0       2009-05-31   1000      625       30      Failed  \n",
       "1       2009-07-20  80000       22        3      Failed  \n",
       "2       2009-05-03     20       35        3  Successful  \n",
       "3       2009-07-14     99      145       25  Successful  \n",
       "4       2009-05-26   1900      387       10      Failed  \n",
       "...            ...    ...      ...      ...         ...  \n",
       "374848  2018-01-16    500        0        0        Live  \n",
       "374849  2018-02-09  15000      269        8        Live  \n",
       "374850  2018-01-16  10000      165        3        Live  \n",
       "374851  2018-02-01    650        7        1        Live  \n",
       "374852  2018-01-26  24274     4483       82        Live  \n",
       "\n",
       "[374853 rows x 11 columns]"
      ]
     },
     "execution_count": 4,
     "metadata": {},
     "output_type": "execute_result"
    }
   ],
   "source": [
    "data"
   ]
  },
  {
   "cell_type": "code",
   "execution_count": 5,
   "id": "22e286ce",
   "metadata": {},
   "outputs": [
    {
     "data": {
      "image/png": "[encoded data removed]",
      "text/plain": [
       "<Figure size 1080x504 with 1 Axes>"
      ]
     },
     "metadata": {
      "needs_background": "light"
     },
     "output_type": "display_data"
    }
   ],
   "source": [
    "plt.figure(figsize = (15,7))\n",
    "sns.countplot(x = 'Category',data = data,hue = 'State',color = 'maroon')\n",
    "plt.xticks(rotation = 'vertical')\n",
    "plt.show()"
   ]
  },
  {
   "cell_type": "code",
   "execution_count": 6,
   "id": "2c5ae437",
   "metadata": {},
   "outputs": [
    {
     "data": {
      "image/png": "[encoded data removed]",
      "text/plain": [
       "<Figure size 1440x504 with 1 Axes>"
      ]
     },
     "metadata": {
      "needs_background": "light"
     },
     "output_type": "display_data"
    }
   ],
   "source": [
    "plt.figure(figsize = (20,7))\n",
    "sns.countplot(x = 'Country',data = data,hue = 'State',color = 'red')\n",
    "plt.xticks(rotation = 'vertical')\n",
    "plt.show()"
   ]
  },
  {
   "cell_type": "code",
   "execution_count": 7,
   "id": "e9cb0905",
   "metadata": {},
   "outputs": [],
   "source": [
    "a = data[['Goal','Pledged','Backers']].corr()"
   ]
  },
  {
   "cell_type": "code",
   "execution_count": 8,
   "id": "88fc96fa",
   "metadata": {},
   "outputs": [
    {
     "data": {
      "image/png": "[encoded data removed]",
      "text/plain": [
       "<Figure size 432x288 with 2 Axes>"
      ]
     },
     "metadata": {
      "needs_background": "light"
     },
     "output_type": "display_data"
    }
   ],
   "source": [
    "sns.heatmap(a)\n",
    "plt.show()"
   ]
  },
  {
   "cell_type": "code",
   "execution_count": 9,
   "id": "bfc9da41",
   "metadata": {},
   "outputs": [],
   "source": [
    "# preparing for the model\n",
    "# taking only those data that are either failed or succeded. \n",
    "model_data = data[data.State.isin(['Failed','Successful'])]"
   ]
  },
  {
   "cell_type": "code",
   "execution_count": 10,
   "id": "da156e8f",
   "metadata": {},
   "outputs": [
    {
     "name": "stderr",
     "output_type": "stream",
     "text": [
      "C:\\Users\\ABCD\\AppData\\Local\\Temp\\ipykernel_8500\\80055376.py:2: SettingWithCopyWarning: \n",
      "A value is trying to be set on a copy of a slice from a DataFrame\n",
      "\n",
      "See the caveats in the documentation: https://pandas.pydata.org/pandas-docs/stable/user_guide/indexing.html#returning-a-view-versus-a-copy\n",
      "  model_data.drop(['ID','Name','Launched','Deadline'],axis = 1,inplace = True)\n"
     ]
    }
   ],
   "source": [
    "# removing the colums that are not required in to the model preparation\n",
    "model_data.drop(['ID','Name','Launched','Deadline'],axis = 1,inplace = True)"
   ]
  },
  {
   "cell_type": "code",
   "execution_count": 11,
   "id": "933bcd93",
   "metadata": {},
   "outputs": [
    {
     "data": {
      "text/html": [
       "<div>\n",
       "<style scoped>\n",
       "    .dataframe tbody tr th:only-of-type {\n",
       "        vertical-align: middle;\n",
       "    }\n",
       "\n",
       "    .dataframe tbody tr th {\n",
       "        vertical-align: top;\n",
       "    }\n",
       "\n",
       "    .dataframe thead th {\n",
       "        text-align: right;\n",
       "    }\n",
       "</style>\n",
       "<table border=\"1\" class=\"dataframe\">\n",
       "  <thead>\n",
       "    <tr style=\"text-align: right;\">\n",
       "      <th></th>\n",
       "      <th>Category</th>\n",
       "      <th>Subcategory</th>\n",
       "      <th>Country</th>\n",
       "      <th>Goal</th>\n",
       "      <th>Pledged</th>\n",
       "      <th>Backers</th>\n",
       "      <th>State</th>\n",
       "    </tr>\n",
       "  </thead>\n",
       "  <tbody>\n",
       "    <tr>\n",
       "      <th>0</th>\n",
       "      <td>Fashion</td>\n",
       "      <td>Fashion</td>\n",
       "      <td>United States</td>\n",
       "      <td>1000</td>\n",
       "      <td>625</td>\n",
       "      <td>30</td>\n",
       "      <td>Failed</td>\n",
       "    </tr>\n",
       "    <tr>\n",
       "      <th>1</th>\n",
       "      <td>Film &amp; Video</td>\n",
       "      <td>Shorts</td>\n",
       "      <td>United States</td>\n",
       "      <td>80000</td>\n",
       "      <td>22</td>\n",
       "      <td>3</td>\n",
       "      <td>Failed</td>\n",
       "    </tr>\n",
       "    <tr>\n",
       "      <th>2</th>\n",
       "      <td>Art</td>\n",
       "      <td>Illustration</td>\n",
       "      <td>United States</td>\n",
       "      <td>20</td>\n",
       "      <td>35</td>\n",
       "      <td>3</td>\n",
       "      <td>Successful</td>\n",
       "    </tr>\n",
       "    <tr>\n",
       "      <th>3</th>\n",
       "      <td>Technology</td>\n",
       "      <td>Software</td>\n",
       "      <td>United States</td>\n",
       "      <td>99</td>\n",
       "      <td>145</td>\n",
       "      <td>25</td>\n",
       "      <td>Successful</td>\n",
       "    </tr>\n",
       "    <tr>\n",
       "      <th>4</th>\n",
       "      <td>Fashion</td>\n",
       "      <td>Fashion</td>\n",
       "      <td>United States</td>\n",
       "      <td>1900</td>\n",
       "      <td>387</td>\n",
       "      <td>10</td>\n",
       "      <td>Failed</td>\n",
       "    </tr>\n",
       "    <tr>\n",
       "      <th>...</th>\n",
       "      <td>...</td>\n",
       "      <td>...</td>\n",
       "      <td>...</td>\n",
       "      <td>...</td>\n",
       "      <td>...</td>\n",
       "      <td>...</td>\n",
       "      <td>...</td>\n",
       "    </tr>\n",
       "    <tr>\n",
       "      <th>374310</th>\n",
       "      <td>Games</td>\n",
       "      <td>Games</td>\n",
       "      <td>Austria</td>\n",
       "      <td>36</td>\n",
       "      <td>270</td>\n",
       "      <td>36</td>\n",
       "      <td>Successful</td>\n",
       "    </tr>\n",
       "    <tr>\n",
       "      <th>374400</th>\n",
       "      <td>Games</td>\n",
       "      <td>Tabletop Games</td>\n",
       "      <td>United Kingdom</td>\n",
       "      <td>271</td>\n",
       "      <td>545</td>\n",
       "      <td>25</td>\n",
       "      <td>Successful</td>\n",
       "    </tr>\n",
       "    <tr>\n",
       "      <th>374458</th>\n",
       "      <td>Fashion</td>\n",
       "      <td>Apparel</td>\n",
       "      <td>United States</td>\n",
       "      <td>200</td>\n",
       "      <td>202</td>\n",
       "      <td>6</td>\n",
       "      <td>Successful</td>\n",
       "    </tr>\n",
       "    <tr>\n",
       "      <th>374530</th>\n",
       "      <td>Games</td>\n",
       "      <td>Tabletop Games</td>\n",
       "      <td>United States</td>\n",
       "      <td>250</td>\n",
       "      <td>265</td>\n",
       "      <td>7</td>\n",
       "      <td>Successful</td>\n",
       "    </tr>\n",
       "    <tr>\n",
       "      <th>374605</th>\n",
       "      <td>Music</td>\n",
       "      <td>Hip-Hop</td>\n",
       "      <td>Australia</td>\n",
       "      <td>392</td>\n",
       "      <td>514</td>\n",
       "      <td>6</td>\n",
       "      <td>Successful</td>\n",
       "    </tr>\n",
       "  </tbody>\n",
       "</table>\n",
       "<p>331462 rows × 7 columns</p>\n",
       "</div>"
      ],
      "text/plain": [
       "            Category     Subcategory         Country   Goal  Pledged  Backers  \\\n",
       "0            Fashion         Fashion   United States   1000      625       30   \n",
       "1       Film & Video          Shorts   United States  80000       22        3   \n",
       "2                Art    Illustration   United States     20       35        3   \n",
       "3         Technology        Software   United States     99      145       25   \n",
       "4            Fashion         Fashion   United States   1900      387       10   \n",
       "...              ...             ...             ...    ...      ...      ...   \n",
       "374310         Games           Games         Austria     36      270       36   \n",
       "374400         Games  Tabletop Games  United Kingdom    271      545       25   \n",
       "374458       Fashion         Apparel   United States    200      202        6   \n",
       "374530         Games  Tabletop Games   United States    250      265        7   \n",
       "374605         Music         Hip-Hop       Australia    392      514        6   \n",
       "\n",
       "             State  \n",
       "0           Failed  \n",
       "1           Failed  \n",
       "2       Successful  \n",
       "3       Successful  \n",
       "4           Failed  \n",
       "...            ...  \n",
       "374310  Successful  \n",
       "374400  Successful  \n",
       "374458  Successful  \n",
       "374530  Successful  \n",
       "374605  Successful  \n",
       "\n",
       "[331462 rows x 7 columns]"
      ]
     },
     "execution_count": 11,
     "metadata": {},
     "output_type": "execute_result"
    }
   ],
   "source": [
    "model_data"
   ]
  },
  {
   "cell_type": "code",
   "execution_count": 12,
   "id": "1035c843",
   "metadata": {},
   "outputs": [
    {
     "data": {
      "image/png": "[encoded data removed]",
      "text/plain": [
       "<Figure size 1440x360 with 1 Axes>"
      ]
     },
     "metadata": {
      "needs_background": "light"
     },
     "output_type": "display_data"
    }
   ],
   "source": [
    "plt.figure(figsize = (20,5))\n",
    "sns.countplot(x = 'Subcategory',data = model_data)\n",
    "plt.xticks(rotation = 'vertical')\n",
    "plt.show()"
   ]
  },
  {
   "cell_type": "code",
   "execution_count": 13,
   "id": "51b8e494",
   "metadata": {},
   "outputs": [],
   "source": [
    "from sklearn.preprocessing import OrdinalEncoder\n",
    "from sklearn.compose import ColumnTransformer\n",
    "from sklearn.preprocessing import MinMaxScaler"
   ]
  },
  {
   "cell_type": "code",
   "execution_count": 14,
   "id": "47dd3724",
   "metadata": {},
   "outputs": [],
   "source": [
    "transformer = ColumnTransformer(\n",
    "    transformers = [('tnf1',OrdinalEncoder(),['Category','Subcategory','Country','State']),\n",
    "                    ('tnf2',MinMaxScaler(),['Goal','Pledged','Backers'])],remainder = 'passthrough')"
   ]
  },
  {
   "cell_type": "code",
   "execution_count": 15,
   "id": "d80e1992",
   "metadata": {},
   "outputs": [],
   "source": [
    "p_data = transformer.fit_transform(model_data)"
   ]
  },
  {
   "cell_type": "code",
   "execution_count": 16,
   "id": "b19bdca9",
   "metadata": {},
   "outputs": [],
   "source": [
    "new = pd.DataFrame(p_data,columns =['Category','Subcategory','Country','State','Goal','Pledged','Backers'])"
   ]
  },
  {
   "cell_type": "markdown",
   "id": "bb4b76c8",
   "metadata": {},
   "source": [
    "# preparing data for training purpose"
   ]
  },
  {
   "cell_type": "code",
   "execution_count": 17,
   "id": "73cc5d6d",
   "metadata": {},
   "outputs": [],
   "source": [
    "from sklearn.model_selection import train_test_split\n",
    "y = new['State'].to_numpy()\n",
    "x = new[['Category','Subcategory','Country','Goal','Pledged','Backers']].to_numpy()\n",
    "x_train,x_test,y_train,y_test = train_test_split(x,y,random_state = 1,test_size = 0.3)"
   ]
  },
  {
   "cell_type": "code",
   "execution_count": 18,
   "id": "22cfbe73",
   "metadata": {},
   "outputs": [],
   "source": [
    "from sklearn.linear_model import LogisticRegression\n",
    "from sklearn.model_selection import cross_val_score\n",
    "from sklearn.model_selection import KFold\n",
    "from sklearn.tree import DecisionTreeClassifier\n",
    "from sklearn.neighbors import KNeighborsClassifier\n",
    "from sklearn.metrics import confusion_matrix,precision_score,recall_score\n",
    "from sklearn.model_selection import GridSearchCV"
   ]
  },
  {
   "cell_type": "code",
   "execution_count": 19,
   "id": "34549ef2",
   "metadata": {},
   "outputs": [],
   "source": [
    "lr = LogisticRegression(penalty = 'none',max_iter = 200,solver = 'newton-cg')"
   ]
  },
  {
   "cell_type": "code",
   "execution_count": 20,
   "id": "40db8af9",
   "metadata": {},
   "outputs": [
    {
     "name": "stderr",
     "output_type": "stream",
     "text": [
      "C:\\Users\\ABCD\\anaconda3\\lib\\site-packages\\scipy\\optimize\\linesearch.py:478: LineSearchWarning: The line search algorithm did not converge\n",
      "  warn('The line search algorithm did not converge', LineSearchWarning)\n",
      "C:\\Users\\ABCD\\anaconda3\\lib\\site-packages\\scipy\\optimize\\linesearch.py:327: LineSearchWarning: The line search algorithm did not converge\n",
      "  warn('The line search algorithm did not converge', LineSearchWarning)\n",
      "C:\\Users\\ABCD\\anaconda3\\lib\\site-packages\\scipy\\optimize\\linesearch.py:478: LineSearchWarning: The line search algorithm did not converge\n",
      "  warn('The line search algorithm did not converge', LineSearchWarning)\n",
      "C:\\Users\\ABCD\\anaconda3\\lib\\site-packages\\scipy\\optimize\\linesearch.py:327: LineSearchWarning: The line search algorithm did not converge\n",
      "  warn('The line search algorithm did not converge', LineSearchWarning)\n",
      "C:\\Users\\ABCD\\anaconda3\\lib\\site-packages\\sklearn\\utils\\optimize.py:210: ConvergenceWarning: newton-cg failed to converge. Increase the number of iterations.\n",
      "  warnings.warn(\n"
     ]
    },
    {
     "data": {
      "text/plain": [
       "LogisticRegression(max_iter=200, penalty='none', solver='newton-cg')"
      ]
     },
     "execution_count": 20,
     "metadata": {},
     "output_type": "execute_result"
    }
   ],
   "source": [
    "lr.fit(x_train,y_train)"
   ]
  },
  {
   "cell_type": "code",
   "execution_count": 21,
   "id": "c86ccf3a",
   "metadata": {},
   "outputs": [],
   "source": [
    "lrpred = lr.predict(x_train)"
   ]
  },
  {
   "cell_type": "code",
   "execution_count": 22,
   "id": "80cb6f35",
   "metadata": {},
   "outputs": [
    {
     "data": {
      "text/plain": [
       "0.984525338442428"
      ]
     },
     "execution_count": 22,
     "metadata": {},
     "output_type": "execute_result"
    }
   ],
   "source": [
    "precision_score(y_train,lrpred)"
   ]
  },
  {
   "cell_type": "code",
   "execution_count": 23,
   "id": "05e58ca9",
   "metadata": {},
   "outputs": [
    {
     "data": {
      "text/plain": [
       "0.9965688468341751"
      ]
     },
     "execution_count": 23,
     "metadata": {},
     "output_type": "execute_result"
    }
   ],
   "source": [
    "recall_score(y_train,lrpred)"
   ]
  },
  {
   "cell_type": "code",
   "execution_count": 24,
   "id": "7beb5242",
   "metadata": {},
   "outputs": [
    {
     "data": {
      "text/plain": [
       "0.9922766277481112"
      ]
     },
     "execution_count": 24,
     "metadata": {},
     "output_type": "execute_result"
    }
   ],
   "source": [
    "lr.score(x_train,y_train)"
   ]
  },
  {
   "cell_type": "code",
   "execution_count": 25,
   "id": "e71b1a55",
   "metadata": {},
   "outputs": [
    {
     "data": {
      "text/plain": [
       "0.9927191544565009"
      ]
     },
     "execution_count": 25,
     "metadata": {},
     "output_type": "execute_result"
    }
   ],
   "source": [
    "lr.score(x_test,y_test)"
   ]
  },
  {
   "cell_type": "code",
   "execution_count": null,
   "id": "201b84d1",
   "metadata": {},
   "outputs": [],
   "source": []
  },
  {
   "cell_type": "code",
   "execution_count": null,
   "id": "4512ab6f",
   "metadata": {},
   "outputs": [],
   "source": []
  },
  {
   "cell_type": "markdown",
   "id": "fbc66a8b",
   "metadata": {},
   "source": [
    "# decision tree"
   ]
  },
  {
   "cell_type": "code",
   "execution_count": 161,
   "id": "aee1658f",
   "metadata": {},
   "outputs": [],
   "source": [
    "dt = DecisionTreeClassifier()"
   ]
  },
  {
   "cell_type": "code",
   "execution_count": 162,
   "id": "83bde8f0",
   "metadata": {},
   "outputs": [
    {
     "data": {
      "text/plain": [
       "DecisionTreeClassifier()"
      ]
     },
     "execution_count": 162,
     "metadata": {},
     "output_type": "execute_result"
    }
   ],
   "source": [
    "dt.fit(x_train,y_train)"
   ]
  },
  {
   "cell_type": "code",
   "execution_count": 167,
   "id": "03b069fd",
   "metadata": {},
   "outputs": [
    {
     "data": {
      "text/plain": [
       "array([0., 0., 1., ..., 0., 1., 0.])"
      ]
     },
     "execution_count": 167,
     "metadata": {},
     "output_type": "execute_result"
    }
   ],
   "source": [
    "dtpred = dt.predict(x_train)\n",
    "dtpred"
   ]
  },
  {
   "cell_type": "code",
   "execution_count": 165,
   "id": "619bc58c",
   "metadata": {},
   "outputs": [
    {
     "data": {
      "text/plain": [
       "0.9976769677892979"
      ]
     },
     "execution_count": 165,
     "metadata": {},
     "output_type": "execute_result"
    }
   ],
   "source": [
    "dt.score(x_test,y_test)"
   ]
  },
  {
   "cell_type": "code",
   "execution_count": 168,
   "id": "409624f4",
   "metadata": {},
   "outputs": [
    {
     "data": {
      "text/plain": [
       "0.9999680289870517"
      ]
     },
     "execution_count": 168,
     "metadata": {},
     "output_type": "execute_result"
    }
   ],
   "source": [
    "precision_score(y_train,dtpred)"
   ]
  },
  {
   "cell_type": "code",
   "execution_count": 169,
   "id": "ee5d0358",
   "metadata": {},
   "outputs": [
    {
     "data": {
      "text/plain": [
       "0.9998508194275728"
      ]
     },
     "execution_count": 169,
     "metadata": {},
     "output_type": "execute_result"
    }
   ],
   "source": [
    "recall_score(y_train,dtpred)"
   ]
  },
  {
   "cell_type": "code",
   "execution_count": null,
   "id": "023ef637",
   "metadata": {},
   "outputs": [],
   "source": []
  }
 ],
 "metadata": {
  "kernelspec": {
   "display_name": "Python 3 (ipykernel)",
   "language": "python",
   "name": "python3"
  },
  "language_info": {
   "codemirror_mode": {
    "name": "ipython",
    "version": 3
   },
   "file_extension": ".py",
   "mimetype": "text/x-python",
   "name": "python",
   "nbconvert_exporter": "python",
   "pygments_lexer": "ipython3",
   "version": "3.9.12"
  }
 },
 "nbformat": 4,
 "nbformat_minor": 5
}
